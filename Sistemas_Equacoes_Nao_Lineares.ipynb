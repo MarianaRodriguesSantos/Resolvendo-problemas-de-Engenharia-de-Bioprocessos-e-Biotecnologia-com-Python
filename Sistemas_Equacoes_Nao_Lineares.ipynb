{
  "nbformat": 4,
  "nbformat_minor": 0,
  "metadata": {
    "colab": {
      "provenance": []
    },
    "kernelspec": {
      "name": "python3",
      "display_name": "Python 3"
    },
    "language_info": {
      "name": "python"
    }
  },
  "cells": [
    {
      "cell_type": "markdown",
      "source": [
        "# Resolvendo Problemas de Engenharia de Bioprocessos e Biotecnologia em *Python*\n",
        "---\n"
      ],
      "metadata": {
        "id": "nvK5RF7OVjTz"
      }
    },
    {
      "cell_type": "markdown",
      "source": [
        "## Sistemas de Equações Não Lineares\n",
        "\n",
        "Considerando o sistema:\n",
        "\n",
        "\n",
        "$F_{(X)} =\n",
        "\\begin{cases}\n",
        "f_{1 (X)} = f_{1} (x_1, x_2, \\cdots +, x_n) = 0 \\\\\n",
        "f_{2 (X)} = f_{2} (x_1, x_2, \\cdots +, x_n) = 0 \\\\\n",
        "\\vdots \\\\\n",
        "f_{m (X)} = f_{m} (x_1, x_2, \\cdots +, x_n) = 0\n",
        "\\end{cases}$\n",
        "(Sistema 1)\n",
        "\n",
        "\n",
        "E a sequência de pontos:\n",
        "\n",
        "\n",
        "$\\{X^{(0)}, X^{(1)}, \\cdots, X^{(k)}, \\cdots, X^* \\}$\n",
        "\n",
        "Onde:\n",
        "\n",
        "$X^{(k)} = (x_1, x_2, \\cdots, x_n)^{(k)}$\n",
        "\n",
        "\n",
        "É possível aplicar processos iterativos a um ponto da sequência para que este resulte no próximo. Dessa maneira, a última iteração resultará no último ponto da sequência ($X^*$).\n",
        "\n",
        "\n",
        "Para sistemas de equações não-lineares como o Sistema 1, a aplicação da iteração da Equação 1 aos pontos $X^{(k)}$ resulta na solução do sistema: o ponto $X^*$.\n",
        "\n",
        "\n",
        "$J_{(X^k)} \\cdot X^{(k+1)} = -F_{(X^k)}$ (Equação 1)\n",
        "\n",
        "onde $J$ é a matriz jacobiana do sistema:\n",
        "\n",
        "$J_{(X)} = \\begin{pmatrix}\n",
        "  \\frac{\\partial f_{1(X)}}{\\partial x_1} & \\frac{\\partial f_{1(X)}}{\\partial x_2} & \\cdots & \\frac{\\partial f_{1(X)}}{\\partial x_n}  \\\\\n",
        "  \\frac{\\partial f_{2(X)}}{\\partial x_1} & \\frac{\\partial f_{2(X)}}{\\partial x_2} & \\cdots & \\frac{\\partial f_{2(X)}}{\\partial x_n}  \\\\\n",
        "  \\vdots  & \\vdots  & \\ddots & \\vdots\\\\\n",
        "  \\frac{\\partial f_{n(X)}}{\\partial x_1} & \\frac{\\partial f_{n(X)}}{\\partial x_2} & \\cdots & \\frac{\\partial f_{n(X)}}{\\partial x_n}\n",
        " \\end{pmatrix}$\n",
        " (Matriz 1)\n"
      ],
      "metadata": {
        "id": "ALMGPyLbVmpT"
      }
    },
    {
      "cell_type": "code",
      "source": [
        "##### Exemplo do uso da biblioteca NumPy para resolução de sistemas de equações lineares #####\n",
        "\n",
        "import numpy as np\n",
        "\n",
        "A = np.array([[1,2],[3,5]])\n",
        "B = np.array([1,2])\n",
        "X = np.linalg.solve(A,B)\n",
        "\n",
        "print(\"X = \", X)"
      ],
      "metadata": {
        "id": "tmudrSCitfst"
      },
      "execution_count": null,
      "outputs": []
    },
    {
      "cell_type": "markdown",
      "source": [
        "---\n",
        "# Exemplo de Aplicação 1\n",
        "\n",
        "Considerando uma operação envolvendo amônia em sua forma gasosa, que ocorre a pressão de 56 atm e temperatura de 450 K, deseja-se calcular o volume molar do gás. Empregue a equação de Van der Waals, adequada para operações em altas pressões.\n",
        "\n",
        "\n",
        "Equação de Van der Waals:\n",
        "\n",
        "$\\begin{cases}\n",
        "(P + \\frac{a}{V^2}) \\cdot (V - b) = R \\cdot T \\\\\n",
        " a = \\frac{27}{64} \\cdot (\\frac{R^2 \\cdot T_c^2}{P_c}) \\\\\n",
        " b = \\frac{R \\cdot T_c}{8 \\cdot P_c}\n",
        " \\end{cases}$\n",
        " (Sistema 2)\n",
        "\n",
        "\n",
        "São conhecidos os valores de temperatura e pressão críticas do gás, dados abaixo:\n",
        "\n",
        "\n",
        "$T_c = 405,5 \\text{ } K \\\\\n",
        "P_c = 111,3 \\text{ } atm \\\\\n",
        "R = 0,08206 \\text{ } atm \\cdot l \\cdot gmol^{-1} \\cdot K^{-1}$\n",
        "\n",
        "\n",
        "Para a solução do Sistema 2, dado pela Equação de Van der Waals, será necessária a aplicação de um método iterativo. Esse processo exige um palpite como valor inicial, o que pode ser dado pela Equação dos Gases Ideais, mesmo que a operação estudada não envolva um gás ideal.\n",
        "\n",
        "\n",
        "A Equação dos Gases Ideais é dada por:\n",
        "\n",
        "$P \\cdot V = n \\cdot R \\cdot T$\n",
        "(Equação 2)\n",
        "\n",
        "\n",
        "Então, obtendo-se o palpite inicial com base na Equação 2, este é aplicado a iterações para a resolução do Sistema 2."
      ],
      "metadata": {
        "id": "7GPwhMoQj9HN"
      }
    },
    {
      "cell_type": "code",
      "source": [
        "########## EXEMPLO DO LIVRO DE KWONG 2016 ##########\n",
        "\n",
        "import numpy as np\n",
        "from scipy.optimize import fsolve\n",
        "\n",
        "#--------------------------------------------------------#\n",
        "#|          Definicao das Variaveis Conhecidas          |#\n",
        "#--------------------------------------------------------#\n",
        "#Constante Universal dos Gases\n",
        "R = 0.08206         ## atm.l/(gmol.K)\n",
        "\n",
        "#Caracteristicas do Gas Amonia\n",
        "Tc = 405.5          ## K\n",
        "Pc = 111.3          ## atm\n",
        "\n",
        "#Caracteristicas do Processo\n",
        "T = 450             ## K\n",
        "P = 56              ## atm\n",
        "\n",
        "#--------------------------------------------------------#\n",
        "#|      Equacao dos Gases Ideais e Palpite Inicial      |#\n",
        "#--------------------------------------------------------#\n",
        "def EGI():\n",
        "  # PV = nRT\n",
        "  # Volume molar = V/n\n",
        "  Vmol = R * T / P\n",
        "  return Vmol\n",
        "\n",
        "#--------------------------------------------------------#\n",
        "#|               Equacao de Van der Waals               |#\n",
        "#--------------------------------------------------------#\n",
        "def VDW(V):\n",
        "  a = (27/64) * ((R**2) * (Tc**2) / Pc)\n",
        "  b = R * Tc / (8 * Pc)\n",
        "\n",
        "  # (P + a/V^2) (V - b) = RT\n",
        "  vdw = (P + (a/(V**2))) * (V-b) - R * T\n",
        "  return vdw\n",
        "\n",
        "Vmol = EGI()\n",
        "Solucao = fsolve(VDW, Vmol)\n",
        "\n",
        "print(\"O volume molar de amônia nas condições descritas será de \",\n",
        "      \"%.4f\"%Solucao[0], \"l/gmol.\")\n"
      ],
      "metadata": {
        "colab": {
          "base_uri": "https://localhost:8080/"
        },
        "id": "s9I46JEGjyUF",
        "outputId": "2652b9ac-5d9c-47ce-cf0c-7398aa442dac"
      },
      "execution_count": null,
      "outputs": [
        {
          "output_type": "stream",
          "name": "stdout",
          "text": [
            "O volume molar de amônia nas condições descritas será de  0.5749 l/gmol.\n"
          ]
        }
      ]
    },
    {
      "cell_type": "markdown",
      "source": [
        "---\n",
        "# Exemplo de Aplicação 2\n",
        "\n",
        "Huang (2010) conduziu um estudo cinético e investigou o crescimento de *Escherichia coli* O157:H7 em carne bovina a diferentes temperaturas. O autor, então, propôs algumas modificações aos modelos cinéticos previamente disponíveis na literatura. O resultado foi uma modelagem mais condizente com o comportamento verdadeiro da população bacteriana estudada.\n",
        "\n",
        "\n",
        "Na solução proposta por Huang (2010), é possível observar o progresso da concentração de bactérias ao longo do tempo, passando pelas fases de crescimento lag (latência), log (crescimento exponencial) e estacionária. Com a finalidade de elaborar um modelo que se adapte bem à progressão das fases, é inserido à equação de crescimento ($Y_{(t)}$) um coeficiente de transição da fase lag ($\\alpha$), através de uma função de transição ($B_{(t)}$).\n",
        "\n",
        "\n",
        "Este coeficiente de transição define a passagem da fase lag para a fase exponencial. Contudo, quando há uma quantidade pequena de dados disponíveis para a construção da curva, é difícil determinar o valor de $\\alpha$ através de uma regressão não linear. Por isso, em alguns casos, Huang (2010) sugere a adoção de um valor arbitrário de $\\alpha = 4$, que permite uma transição de fases rápida, porém suave. O autor também ressalta que a adoção deste valor arbitrário tende a gerar erros mínimos, portanto não apresenta impacto relevante na maioria dos casos de estudo.\n",
        "\n",
        "\n",
        "De acordo com Huang (2010), o crescimento bacteriano pode ser descrito pelo seguinte sistema:\n",
        "\n",
        "$\\begin{cases}\n",
        " Y = Y_0 + Y_{máx} -\n",
        " ln [e^{Y_0} + (e^{Y_{máx}} - e^{Y_0}) \\cdot\n",
        " e^{-\\mu_{máx} B_{(t)}}] \\\\\n",
        " B_{(t)} = t + \\frac{1}{\\alpha} \\cdot ln \\left[\\frac{1 + e^{-\\alpha (t - \\lambda)}}{1 + e^{\\alpha \\lambda}} \\right]\n",
        " \\end{cases}$\n",
        " (Sistema 3)\n",
        "\n",
        "\n",
        "Onde:\n",
        "\n",
        "- $Y$ é o logaritmo natural da contagem de unidades formadoras de colônia observadas, por massa de amostra analisada, $ln (UFC/g)$;\n",
        "- $Y_0$ e $Y_{máx}$ são as concentrações celulares inicial e máxima, respectivamente;\n",
        "- $\\mu_{máx}$ é a taxa de crescimento específica;\n",
        "- $B_{(t)}$ é a função de transição;\n",
        "- $\\alpha$ é o coeficiente de transição da fase lag;\n",
        "- $\\lambda$ é a duração da fase lag;\n",
        "- $t$ é o tempo decorrido de cultivo.\n"
      ],
      "metadata": {
        "id": "7yPwsSbANj6H"
      }
    },
    {
      "cell_type": "code",
      "source": [
        "########## EXEMPLO DO ARTIGO DE HUANG (2010) ##########\n",
        "\n",
        "import numpy as np\n",
        "import matplotlib.pyplot as plt\n",
        "\n",
        "#--------------------------------------------------------#\n",
        "#|               Definicao das Constantes               |#\n",
        "#--------------------------------------------------------#\n",
        "# Valores adotados com base nos dados de Huang (2010)\n",
        "mimax = 1.5\n",
        "alfa = 4\n",
        "Lambda = 1.77\n",
        "Y0 = 7\n",
        "Ymax = 18\n",
        "#--------------------------------------------------------#\n",
        "#|                   Equacao de Huang                   |#\n",
        "#--------------------------------------------------------#\n",
        "def crescimento (t):\n",
        "  B = t+(1/alfa)* np.log((1+np.exp(-alfa*(t-Lambda)))/(1+np.exp(alfa*Lambda)))\n",
        "  Y = Y0+Ymax- np.log(np.exp(Y0)+(np.exp(Ymax)-np.exp(Y0))*np.exp(-mimax*B))\n",
        "  return Y\n",
        "\n",
        "#--------------------------------------------------------#\n",
        "#|                  Solucao do Sistema                  |#\n",
        "#--------------------------------------------------------#\n",
        "tempo = range(26)\n",
        "Concentracoes = []\n",
        "for t in tempo:\n",
        "  Yi = crescimento(t)\n",
        "  Concentracoes.append(Yi)\n",
        "\n",
        "#--------------------------------------------------------#\n",
        "#|                 Plotagem do Grafico                  |#\n",
        "#--------------------------------------------------------#\n",
        "plt.plot(tempo, Concentracoes, \"b-\")\n",
        "plt.xlabel(\"Tempo de cultivo (h)\", weight=\"bold\")\n",
        "plt.ylabel(\"Concentração celular (ln UFC/g)\", weight=\"bold\")\n",
        "plt.grid(True)\n",
        "plt.show()\n"
      ],
      "metadata": {
        "colab": {
          "base_uri": "https://localhost:8080/",
          "height": 449
        },
        "id": "26a6qTZuDnTg",
        "outputId": "f4df2367-0435-4220-a493-bc2aca32a3ac"
      },
      "execution_count": null,
      "outputs": [
        {
          "output_type": "display_data",
          "data": {
            "text/plain": [
              "<Figure size 640x480 with 1 Axes>"
            ],
            "image/png": "[encoded data removed]"
          },
          "metadata": {}
        }
      ]
    }
  ]
}